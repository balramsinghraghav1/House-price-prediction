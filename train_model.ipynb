{
 "cells": [
  {
   "cell_type": "markdown",
   "id": "7801353f",
   "metadata": {},
   "source": [
    "# Boston House Price Prediction Model\n",
    "This notebook trains a linear regression model on the Boston Housing dataset and saves it as a `.pkl` file."
   ]
  },
  {
   "cell_type": "code",
   "execution_count": null,
   "id": "d88082d9",
   "metadata": {},
   "outputs": [],
   "source": [
    "from sklearn.datasets import load_boston\n",
    "from sklearn.linear_model import LinearRegression\n",
    "from sklearn.model_selection import train_test_split\n",
    "import pickle"
   ]
  },
  {
   "cell_type": "code",
   "execution_count": null,
   "id": "ecc6a653",
   "metadata": {},
   "outputs": [],
   "source": [
    "# Load the Boston dataset\n",
    "boston = load_boston()\n",
    "X, y = boston.data, boston.target\n",
    "print(boston.feature_names)"
   ]
  },
  {
   "cell_type": "code",
   "execution_count": null,
   "id": "f58ff164",
   "metadata": {},
   "outputs": [],
   "source": [
    "# Split into training and testing sets\n",
    "X_train, X_test, y_train, y_test = train_test_split(X, y, test_size=0.2, random_state=42)"
   ]
  },
  {
   "cell_type": "code",
   "execution_count": null,
   "id": "0589ac35",
   "metadata": {},
   "outputs": [],
   "source": [
    "# Train the Linear Regression model\n",
    "model = LinearRegression()\n",
    "model.fit(X_train, y_train)"
   ]
  },
  {
   "cell_type": "code",
   "execution_count": null,
   "id": "1b170248",
   "metadata": {},
   "outputs": [],
   "source": [
    "# Save the trained model to a .pkl file\n",
    "with open('House_price_prediction.pkl', 'wb') as f:\n",
    "    pickle.dump(model, f)"
   ]
  }
 ],
 "metadata": {},
 "nbformat": 4,
 "nbformat_minor": 5
}
